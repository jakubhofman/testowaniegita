{
 "cells": [
  {
   "cell_type": "markdown",
   "metadata": {},
   "source": [
    "Wojciech Łaguna  \n",
    "[wojtek@laguna.pm](mailto:wojtek@laguna.pm)\n",
    "\n",
    "Mateusz Rogowski  "
   ]
  },
  {
   "cell_type": "markdown",
   "metadata": {},
   "source": [
    "<b style=\"font-size:24px;\">Python w Data Science 1   \n",
    "Podstawy Pythona 2<b/>\n",
    "\n",
    "---\n",
    "<img src=\"https://www.python.org/static/img/python-logo@2x.png\" />"
   ]
  },
  {
   "cell_type": "markdown",
   "metadata": {},
   "source": [
    "# Jupyter Notebook - przydatne rzeczy"
   ]
  },
  {
   "cell_type": "markdown",
   "metadata": {
    "ExecuteTime": {
     "end_time": "2017-11-04T13:40:43.024504Z",
     "start_time": "2017-11-04T13:40:43.019998Z"
    }
   },
   "source": [
    "## towardsdatascience - Jupyter Notebook tips, tricks and shortcuts\n",
    "---\n",
    "https://towardsdatascience.com/optimizing-jupyter-notebook-tips-tricks-and-nbextensions-26d75d502663"
   ]
  },
  {
   "cell_type": "markdown",
   "metadata": {},
   "source": [
    "# Set, Tuple"
   ]
  },
  {
   "cell_type": "markdown",
   "metadata": {},
   "source": [
    "## Set (zbiór)"
   ]
  },
  {
   "cell_type": "code",
   "execution_count": null,
   "metadata": {
    "ExecuteTime": {
     "end_time": "2017-10-30T19:20:59.636708Z",
     "start_time": "2017-10-30T19:20:59.627585Z"
    }
   },
   "outputs": [],
   "source": [
    "my_set = {1,3,4}\n",
    "my_set"
   ]
  },
  {
   "cell_type": "code",
   "execution_count": null,
   "metadata": {
    "ExecuteTime": {
     "end_time": "2017-10-30T19:21:12.058516Z",
     "start_time": "2017-10-30T19:21:12.054975Z"
    }
   },
   "outputs": [],
   "source": [
    "my_set = {1,1,1,1,1,1,1}\n",
    "my_set"
   ]
  },
  {
   "cell_type": "code",
   "execution_count": null,
   "metadata": {
    "ExecuteTime": {
     "end_time": "2017-10-30T19:21:26.027813Z",
     "start_time": "2017-10-30T19:21:26.016437Z"
    }
   },
   "outputs": [],
   "source": [
    "my_list =[1,2,5,6,3,3,3,4]\n",
    "\n",
    "my_set = set(my_list)\n",
    "my_set"
   ]
  },
  {
   "cell_type": "markdown",
   "metadata": {},
   "source": [
    "Set nie wspiera indexowania - nie można się odwołać do pojedyńczego elementu."
   ]
  },
  {
   "cell_type": "code",
   "execution_count": null,
   "metadata": {},
   "outputs": [],
   "source": [
    "my_set[0]"
   ]
  },
  {
   "cell_type": "markdown",
   "metadata": {},
   "source": [
    "Za to można iterować bo jego elementach (przy czym nie możemy założyć konkretnej kolejności elementów)"
   ]
  },
  {
   "cell_type": "code",
   "execution_count": null,
   "metadata": {},
   "outputs": [],
   "source": [
    "for element in my_set:\n",
    "    print(element)"
   ]
  },
  {
   "cell_type": "markdown",
   "metadata": {},
   "source": [
    "Różnica (difference)"
   ]
  },
  {
   "cell_type": "code",
   "execution_count": null,
   "metadata": {
    "ExecuteTime": {
     "end_time": "2017-10-30T19:20:30.351064Z",
     "start_time": "2017-10-30T19:20:30.345784Z"
    }
   },
   "outputs": [],
   "source": [
    "{1,2,3} - {2, 5}"
   ]
  },
  {
   "cell_type": "code",
   "execution_count": null,
   "metadata": {},
   "outputs": [],
   "source": [
    "{2, 5} - {1,2,3}"
   ]
  },
  {
   "cell_type": "markdown",
   "metadata": {},
   "source": [
    "Różnica (difference)"
   ]
  },
  {
   "cell_type": "code",
   "execution_count": null,
   "metadata": {
    "ExecuteTime": {
     "end_time": "2017-10-30T19:20:11.267426Z",
     "start_time": "2017-10-30T19:20:11.264786Z"
    }
   },
   "outputs": [],
   "source": [
    "my_set = {1, 2, 3, 4}\n",
    "\n",
    "my_set.difference({1, 3, 5})"
   ]
  },
  {
   "cell_type": "markdown",
   "metadata": {},
   "source": [
    "Część wspólna (intersection)"
   ]
  },
  {
   "cell_type": "code",
   "execution_count": null,
   "metadata": {
    "ExecuteTime": {
     "end_time": "2017-10-30T19:23:04.560074Z",
     "start_time": "2017-10-30T19:23:04.551413Z"
    }
   },
   "outputs": [],
   "source": [
    "my_set = {1, 2, 3, 4}\n",
    "\n",
    "my_set.intersection({1,2,5})"
   ]
  },
  {
   "cell_type": "markdown",
   "metadata": {},
   "source": [
    "Suma dwóch **set**'ów"
   ]
  },
  {
   "cell_type": "code",
   "execution_count": null,
   "metadata": {
    "ExecuteTime": {
     "end_time": "2017-10-30T20:08:05.202293Z",
     "start_time": "2017-10-30T20:08:05.196468Z"
    }
   },
   "outputs": [],
   "source": [
    "set.union({2,3,4}, {2,3,5})"
   ]
  },
  {
   "cell_type": "markdown",
   "metadata": {
    "ExecuteTime": {
     "end_time": "2017-10-30T19:26:24.569195Z",
     "start_time": "2017-10-30T19:26:24.561825Z"
    }
   },
   "source": [
    "Często stosuje się **set** do usunięcia powtórzeń z listy"
   ]
  },
  {
   "cell_type": "code",
   "execution_count": null,
   "metadata": {
    "ExecuteTime": {
     "end_time": "2017-10-30T19:28:07.52435Z",
     "start_time": "2017-10-30T19:28:07.51295Z"
    }
   },
   "outputs": [],
   "source": [
    "my_list = [10,5,1,2,3,3,3,4]\n",
    "\n",
    "my_list = list(set(my_list))\n",
    "my_list"
   ]
  },
  {
   "cell_type": "code",
   "execution_count": null,
   "metadata": {
    "ExecuteTime": {
     "end_time": "2017-10-30T20:25:06.309401Z",
     "start_time": "2017-10-30T20:25:06.301987Z"
    }
   },
   "outputs": [],
   "source": [
    "my_string = \"Często stosuje się set do usunięcia powtórzeń z listy\"\n",
    "set(my_string)"
   ]
  },
  {
   "cell_type": "markdown",
   "metadata": {},
   "source": [
    "## Tuple\n",
    "---\n",
    "https://pl.wikibooks.org/wiki/Zanurkuj_w_Pythonie/Krotki\n",
    "\n",
    "- Nieedytowalne (immutable)\n",
    "- Szybsze niż listy\n",
    "- Zwracanie wyników z funkcji"
   ]
  },
  {
   "cell_type": "code",
   "execution_count": null,
   "metadata": {
    "ExecuteTime": {
     "end_time": "2017-10-30T16:34:22.25171Z",
     "start_time": "2017-10-30T16:34:22.249059Z"
    }
   },
   "outputs": [],
   "source": [
    "(1,2,3)"
   ]
  },
  {
   "cell_type": "code",
   "execution_count": null,
   "metadata": {
    "ExecuteTime": {
     "end_time": "2017-10-30T20:14:27.919298Z",
     "start_time": "2017-10-30T20:14:27.916255Z"
    }
   },
   "outputs": [],
   "source": [
    "my_tuple = (1, 2)\n",
    "my_tuple"
   ]
  },
  {
   "cell_type": "code",
   "execution_count": null,
   "metadata": {
    "ExecuteTime": {
     "end_time": "2017-10-30T20:14:44.114964Z",
     "start_time": "2017-10-30T20:14:44.110456Z"
    }
   },
   "outputs": [],
   "source": [
    "my_tuple[0]"
   ]
  },
  {
   "cell_type": "code",
   "execution_count": null,
   "metadata": {
    "ExecuteTime": {
     "end_time": "2017-10-30T20:14:44.532787Z",
     "start_time": "2017-10-30T20:14:44.526199Z"
    }
   },
   "outputs": [],
   "source": [
    "my_tuple[1]"
   ]
  },
  {
   "cell_type": "code",
   "execution_count": null,
   "metadata": {
    "ExecuteTime": {
     "end_time": "2017-10-30T16:35:10.540999Z",
     "start_time": "2017-10-30T16:35:10.529859Z"
    }
   },
   "outputs": [],
   "source": [
    "for element in my_tuple:\n",
    "    print(element)"
   ]
  },
  {
   "cell_type": "code",
   "execution_count": null,
   "metadata": {
    "ExecuteTime": {
     "end_time": "2017-10-30T16:35:15.474559Z",
     "start_time": "2017-10-30T16:35:15.471985Z"
    }
   },
   "outputs": [],
   "source": [
    "list(my_tuple)"
   ]
  },
  {
   "cell_type": "code",
   "execution_count": null,
   "metadata": {},
   "outputs": [],
   "source": [
    "my_tuple"
   ]
  },
  {
   "cell_type": "code",
   "execution_count": null,
   "metadata": {
    "ExecuteTime": {
     "end_time": "2017-10-30T16:35:54.9862Z",
     "start_time": "2017-10-30T16:35:54.982008Z"
    }
   },
   "outputs": [],
   "source": [
    "b, c = my_tuple"
   ]
  },
  {
   "cell_type": "code",
   "execution_count": null,
   "metadata": {
    "ExecuteTime": {
     "end_time": "2017-10-30T16:35:55.436448Z",
     "start_time": "2017-10-30T16:35:55.429397Z"
    }
   },
   "outputs": [],
   "source": [
    "b"
   ]
  },
  {
   "cell_type": "code",
   "execution_count": null,
   "metadata": {
    "ExecuteTime": {
     "end_time": "2017-10-30T16:35:55.928822Z",
     "start_time": "2017-10-30T16:35:55.921808Z"
    }
   },
   "outputs": [],
   "source": [
    "c"
   ]
  },
  {
   "cell_type": "markdown",
   "metadata": {},
   "source": [
    "Funkcje zwracające kilka wartości zwracają je w postaci tuple."
   ]
  },
  {
   "cell_type": "markdown",
   "metadata": {},
   "source": [
    "Przykładem może być iterowanie po elementach w słowniku."
   ]
  },
  {
   "cell_type": "code",
   "execution_count": null,
   "metadata": {},
   "outputs": [],
   "source": [
    "d = {\n",
    "    1: \"jeden\",\n",
    "    2: \"dwa\"\n",
    "}"
   ]
  },
  {
   "cell_type": "code",
   "execution_count": null,
   "metadata": {},
   "outputs": [],
   "source": [
    "d.items()"
   ]
  },
  {
   "cell_type": "code",
   "execution_count": null,
   "metadata": {
    "ExecuteTime": {
     "end_time": "2017-10-30T20:28:08.481508Z",
     "start_time": "2017-10-30T20:28:08.475569Z"
    }
   },
   "outputs": [],
   "source": [
    "d = {\n",
    "    1: \"jeden\",\n",
    "    2: \"dwa\"\n",
    "}\n",
    "\n",
    "for key, value in d.items():\n",
    "    print(key, value)"
   ]
  },
  {
   "cell_type": "code",
   "execution_count": null,
   "metadata": {
    "ExecuteTime": {
     "end_time": "2017-10-30T20:28:33.104827Z",
     "start_time": "2017-10-30T20:28:33.102106Z"
    }
   },
   "outputs": [],
   "source": [
    "for kv in d.items():\n",
    "    print(kv)\n",
    "    print(kv[0], kv[1])"
   ]
  },
  {
   "cell_type": "code",
   "execution_count": null,
   "metadata": {
    "ExecuteTime": {
     "end_time": "2017-10-30T20:29:07.335014Z",
     "start_time": "2017-10-30T20:29:07.331107Z"
    }
   },
   "outputs": [],
   "source": [
    "for kv in d.items():\n",
    "    print(type(kv))\n",
    "    break"
   ]
  },
  {
   "cell_type": "markdown",
   "metadata": {},
   "source": [
    "## Ćwiczenia"
   ]
  },
  {
   "cell_type": "code",
   "execution_count": null,
   "metadata": {
    "ExecuteTime": {
     "end_time": "2017-11-04T13:46:18.889312Z",
     "start_time": "2017-11-04T13:46:18.885825Z"
    },
    "scrolled": true
   },
   "outputs": [],
   "source": [
    "a = [4, 1, 5, 3, 1, 4, 1]\n",
    "b = [7, 1, 2, 4, 1, 2]"
   ]
  },
  {
   "cell_type": "markdown",
   "metadata": {},
   "source": [
    "### Podaj unikalne wartości z listy *a*"
   ]
  },
  {
   "cell_type": "code",
   "execution_count": null,
   "metadata": {},
   "outputs": [],
   "source": []
  },
  {
   "cell_type": "markdown",
   "metadata": {},
   "source": [
    "### Podaj unikalne wartości z listy *b*"
   ]
  },
  {
   "cell_type": "code",
   "execution_count": null,
   "metadata": {},
   "outputs": [],
   "source": []
  },
  {
   "cell_type": "markdown",
   "metadata": {},
   "source": [
    "### Podaj wpólne wartości list *a* i *b*"
   ]
  },
  {
   "cell_type": "code",
   "execution_count": null,
   "metadata": {},
   "outputs": [],
   "source": []
  },
  {
   "cell_type": "markdown",
   "metadata": {},
   "source": [
    "### Podaj wartości którymi się różnią listy *a* i *b* (chodzi o unikalne wartości, które występują w jednej liście, ale nie w drugiej)"
   ]
  },
  {
   "cell_type": "code",
   "execution_count": null,
   "metadata": {},
   "outputs": [],
   "source": []
  },
  {
   "cell_type": "code",
   "execution_count": null,
   "metadata": {},
   "outputs": [],
   "source": []
  },
  {
   "cell_type": "markdown",
   "metadata": {},
   "source": [
    "### Stwórz zmienną *c*, która zawiera listę z unikalnymi wartościami listy *a*"
   ]
  },
  {
   "cell_type": "code",
   "execution_count": null,
   "metadata": {},
   "outputs": [],
   "source": [
    "a = [4, 1, 5, 3, 1, 4, 1]"
   ]
  },
  {
   "cell_type": "code",
   "execution_count": null,
   "metadata": {},
   "outputs": [],
   "source": []
  },
  {
   "cell_type": "markdown",
   "metadata": {},
   "source": [
    "# Wyjątki\n",
    "---\n",
    "https://docs.python.org/3/tutorial/errors.html  "
   ]
  },
  {
   "cell_type": "markdown",
   "metadata": {},
   "source": [
    "## Łapanie wyjątków"
   ]
  },
  {
   "cell_type": "code",
   "execution_count": null,
   "metadata": {
    "ExecuteTime": {
     "end_time": "2017-11-03T22:50:43.677533Z",
     "start_time": "2017-11-03T22:50:43.670543Z"
    }
   },
   "outputs": [],
   "source": [
    "10 * (1/0)\n",
    "\n",
    "print(\"Test\")"
   ]
  },
  {
   "cell_type": "code",
   "execution_count": null,
   "metadata": {
    "ExecuteTime": {
     "end_time": "2017-11-03T22:50:47.409681Z",
     "start_time": "2017-11-03T22:50:47.406678Z"
    }
   },
   "outputs": [],
   "source": [
    "print 'Hello world'"
   ]
  },
  {
   "cell_type": "markdown",
   "metadata": {
    "ExecuteTime": {
     "end_time": "2017-11-03T22:51:02.91707Z",
     "start_time": "2017-11-03T22:51:02.913063Z"
    }
   },
   "source": [
    "``` python \n",
    "try:\n",
    "    doSomething()\n",
    "except SomeException:\n",
    "    print(\"Something went wrong\")\n",
    "```"
   ]
  },
  {
   "cell_type": "code",
   "execution_count": null,
   "metadata": {
    "ExecuteTime": {
     "end_time": "2017-11-03T22:53:41.904312Z",
     "start_time": "2017-11-03T22:53:41.900308Z"
    }
   },
   "outputs": [],
   "source": [
    "try:\n",
    "#     print(5 / aaaaa)\n",
    "    print(5 / 0)\n",
    "except ZeroDivisionError:\n",
    "    print(\"Nie można dzielić przez 0\")"
   ]
  },
  {
   "cell_type": "code",
   "execution_count": null,
   "metadata": {
    "ExecuteTime": {
     "end_time": "2017-11-03T22:51:43.253421Z",
     "start_time": "2017-11-03T22:51:30.723997Z"
    }
   },
   "outputs": [],
   "source": [
    "while True:\n",
    "    try:\n",
    "        x = int(input(\"Please enter a number: \"))\n",
    "        break\n",
    "    except ValueError:\n",
    "        print(\"Oops!  That was no valid number.  Try again...\")"
   ]
  },
  {
   "cell_type": "markdown",
   "metadata": {},
   "source": [
    "**NIGDY NIE RÓB TEGO!**  \n",
    "```python\n",
    "try:\n",
    "    doSomething()\n",
    "except:\n",
    "    print(\"Something went wrong\")\n",
    "```\n",
    "\n",
    "  \n",
    "**ANI TEGO**  \n",
    "```python\n",
    "except BaseException:\n",
    "```\n",
    "\n",
    "  \n",
    "**... ANI TEGO**  \n",
    "```python\n",
    "except Exception:\n",
    "```"
   ]
  },
  {
   "cell_type": "markdown",
   "metadata": {},
   "source": [
    "### Łapanie wielu wyjątków"
   ]
  },
  {
   "cell_type": "code",
   "execution_count": null,
   "metadata": {
    "ExecuteTime": {
     "end_time": "2017-11-03T22:54:50.00267Z",
     "start_time": "2017-11-03T22:54:49.996648Z"
    }
   },
   "outputs": [],
   "source": [
    "try:\n",
    "    5 / 0\n",
    "#     1/'a'\n",
    "except (ZeroDivisionError, TypeError) as e:\n",
    "    print(\"Exception:\", e)"
   ]
  },
  {
   "cell_type": "code",
   "execution_count": null,
   "metadata": {
    "ExecuteTime": {
     "end_time": "2017-11-03T22:55:35.111989Z",
     "start_time": "2017-11-03T22:55:35.106984Z"
    }
   },
   "outputs": [],
   "source": [
    "try:\n",
    "    1/'a'\n",
    "#     1/0\n",
    "except ZeroDivisionError as e:\n",
    "    print(\"ZeroDivisionError Exception:\", e)\n",
    "except TypeError as e:\n",
    "    print(\"TypeError exception:\", e)"
   ]
  },
  {
   "cell_type": "markdown",
   "metadata": {},
   "source": [
    "## Wywoływanie wyjątków"
   ]
  },
  {
   "cell_type": "code",
   "execution_count": null,
   "metadata": {
    "ExecuteTime": {
     "end_time": "2017-11-03T22:55:58.454547Z",
     "start_time": "2017-11-03T22:55:58.447541Z"
    }
   },
   "outputs": [],
   "source": [
    "raise NameError('HiThere')"
   ]
  },
  {
   "cell_type": "code",
   "execution_count": null,
   "metadata": {
    "ExecuteTime": {
     "end_time": "2017-11-03T22:56:06.647644Z",
     "start_time": "2017-11-03T22:56:06.639635Z"
    }
   },
   "outputs": [],
   "source": [
    "raise ValueError  # shorthand for 'raise ValueError()'"
   ]
  },
  {
   "cell_type": "markdown",
   "metadata": {},
   "source": [
    "Ponowne wywołanie pierwotnego błędu. Jest to przydatne, gdy nie chcemy \"ukryć\" błędu, ale musimy wykonać dodatkową akcję, na przykład zapisać w bazie danych informację o błędzie."
   ]
  },
  {
   "cell_type": "code",
   "execution_count": null,
   "metadata": {
    "ExecuteTime": {
     "end_time": "2017-11-03T22:58:05.037814Z",
     "start_time": "2017-11-03T22:58:05.028806Z"
    }
   },
   "outputs": [],
   "source": [
    "try:\n",
    "    raise NameError('HiThere')\n",
    "except NameError:\n",
    "    print('An exception flew by!')\n",
    "    raise"
   ]
  },
  {
   "cell_type": "markdown",
   "metadata": {
    "ExecuteTime": {
     "end_time": "2017-11-03T22:29:30.403583Z",
     "start_time": "2017-11-03T22:29:30.398578Z"
    }
   },
   "source": [
    "## Ćwiczenia"
   ]
  },
  {
   "cell_type": "markdown",
   "metadata": {},
   "source": [
    "### Popraw kod poniżej, tak żeby zamiast błędu wyświetlał się komunikat: \"Nie można dzielić przez 0\" - wykorzystaj *try...except*"
   ]
  },
  {
   "cell_type": "code",
   "execution_count": null,
   "metadata": {
    "ExecuteTime": {
     "end_time": "2017-11-04T13:57:46.044649Z",
     "start_time": "2017-11-04T13:57:46.036158Z"
    }
   },
   "outputs": [],
   "source": [
    "licznik = 33\n",
    "mianownik = 0\n",
    "\n",
    "licznik / mianownik"
   ]
  },
  {
   "cell_type": "code",
   "execution_count": null,
   "metadata": {},
   "outputs": [],
   "source": []
  },
  {
   "cell_type": "markdown",
   "metadata": {},
   "source": [
    "# Funkcje"
   ]
  },
  {
   "cell_type": "markdown",
   "metadata": {},
   "source": [
    "## Definiowanie funkcji"
   ]
  },
  {
   "cell_type": "code",
   "execution_count": null,
   "metadata": {},
   "outputs": [],
   "source": [
    "def dodaj(val1, val2):\n",
    "    \n",
    "    return val1+val2"
   ]
  },
  {
   "cell_type": "code",
   "execution_count": null,
   "metadata": {},
   "outputs": [],
   "source": [
    "dodaj(4, 5)"
   ]
  },
  {
   "cell_type": "code",
   "execution_count": null,
   "metadata": {},
   "outputs": [],
   "source": [
    "dodaj(val2=2, val1=2)"
   ]
  },
  {
   "cell_type": "markdown",
   "metadata": {},
   "source": [
    "W Python'ie funkcje mogą zwracać wiele wartości"
   ]
  },
  {
   "cell_type": "code",
   "execution_count": null,
   "metadata": {
    "ExecuteTime": {
     "end_time": "2017-10-30T20:41:59.064639Z",
     "start_time": "2017-10-30T20:41:59.057244Z"
    }
   },
   "outputs": [],
   "source": [
    "def podziel(val1, val2):\n",
    "    \"\"\"Funkcja do dzielenia, która zwraca część całkowitą i resztę w postaci dwóch wartości\n",
    "    :param int val1: Wartość 1 - Dzielna\n",
    "    :param int val2: Wartość 2 - Dzielnik\n",
    "    :return: część całkowita\n",
    "    :return: reszta z dzielenia\n",
    "    \"\"\"\n",
    "    return val1//val2, val1%val2"
   ]
  },
  {
   "cell_type": "code",
   "execution_count": null,
   "metadata": {
    "ExecuteTime": {
     "end_time": "2017-10-30T20:35:30.939035Z",
     "start_time": "2017-10-30T20:35:30.933928Z"
    }
   },
   "outputs": [],
   "source": [
    "podziel(10,3)"
   ]
  },
  {
   "cell_type": "code",
   "execution_count": null,
   "metadata": {
    "ExecuteTime": {
     "end_time": "2017-10-30T20:36:08.128763Z",
     "start_time": "2017-10-30T20:36:08.113022Z"
    }
   },
   "outputs": [],
   "source": [
    "czesc_calkowita, reszta = podziel(10, 3)\n",
    "print(czesc_calkowita)\n",
    "print(reszta)"
   ]
  },
  {
   "cell_type": "code",
   "execution_count": null,
   "metadata": {
    "ExecuteTime": {
     "end_time": "2017-10-30T20:53:54.202698Z",
     "start_time": "2017-10-30T20:53:54.200237Z"
    }
   },
   "outputs": [],
   "source": [
    "podziel(val2=3, val1=2)"
   ]
  },
  {
   "cell_type": "code",
   "execution_count": null,
   "metadata": {},
   "outputs": [],
   "source": [
    "podziel(10)"
   ]
  },
  {
   "cell_type": "markdown",
   "metadata": {},
   "source": [
    "### Wartości domyślne"
   ]
  },
  {
   "cell_type": "code",
   "execution_count": null,
   "metadata": {
    "ExecuteTime": {
     "end_time": "2017-10-30T20:55:34.906075Z",
     "start_time": "2017-10-30T20:55:34.894105Z"
    }
   },
   "outputs": [],
   "source": [
    "def poteguj(podstawa, wykladnik=2):\n",
    "    return podstawa**wykladnik"
   ]
  },
  {
   "cell_type": "code",
   "execution_count": null,
   "metadata": {
    "ExecuteTime": {
     "end_time": "2017-10-30T20:55:48.761887Z",
     "start_time": "2017-10-30T20:55:48.755485Z"
    }
   },
   "outputs": [],
   "source": [
    "poteguj(10)"
   ]
  },
  {
   "cell_type": "code",
   "execution_count": null,
   "metadata": {
    "ExecuteTime": {
     "end_time": "2017-10-30T20:55:59.747263Z",
     "start_time": "2017-10-30T20:55:59.739707Z"
    }
   },
   "outputs": [],
   "source": [
    "poteguj(10, 3)"
   ]
  },
  {
   "cell_type": "markdown",
   "metadata": {},
   "source": [
    "### Deklaracja typów zmiennych w funkcjach"
   ]
  },
  {
   "cell_type": "code",
   "execution_count": null,
   "metadata": {
    "ExecuteTime": {
     "end_time": "2017-10-30T20:52:52.556786Z",
     "start_time": "2017-10-30T20:52:52.550967Z"
    }
   },
   "outputs": [],
   "source": [
    "def podziel(val1: int, val2: int) -> (int, int):\n",
    "    return val1//val2, val1%val2"
   ]
  },
  {
   "cell_type": "code",
   "execution_count": null,
   "metadata": {
    "ExecuteTime": {
     "end_time": "2017-10-30T20:53:00.362235Z",
     "start_time": "2017-10-30T20:53:00.357272Z"
    }
   },
   "outputs": [],
   "source": [
    "podziel(9, 3)"
   ]
  },
  {
   "cell_type": "code",
   "execution_count": null,
   "metadata": {
    "ExecuteTime": {
     "end_time": "2017-10-30T20:56:36.187601Z",
     "start_time": "2017-10-30T20:56:36.182095Z"
    }
   },
   "outputs": [],
   "source": [
    "def poteguj(podstawa: int, wykladnik: int=2) -> (int):\n",
    "    return podstawa**wykladnik"
   ]
  },
  {
   "cell_type": "code",
   "execution_count": null,
   "metadata": {},
   "outputs": [],
   "source": [
    "poteguj(3, 1.5)"
   ]
  },
  {
   "cell_type": "markdown",
   "metadata": {},
   "source": [
    "### Dokumentacja (docscring) w Python'ie\n",
    "---\n",
    "1. **Python style - reStructuredText**  \n",
    "    https://www.python.org/dev/peps/pep-0257/#references-and-footnotes  \n",
    "    http://docutils.sourceforge.net/rst.html  \n",
    "2. **Google style**  \n",
    "    http://google.github.io/styleguide/pyguide.html  \n",
    "3. **NumPy style**  \n",
    "    https://github.com/numpy/numpy/blob/master/doc/HOWTO_DOCUMENT.rst.txt  \n",
    "\n",
    "**Porównanie**\n",
    "http://sphinxcontrib-napoleon.readthedocs.io/en/latest/index.html"
   ]
  },
  {
   "cell_type": "markdown",
   "metadata": {},
   "source": [
    "## Ćwiczenia"
   ]
  },
  {
   "cell_type": "markdown",
   "metadata": {},
   "source": [
    "### Napisz funkcję, która zwraca listę z wartościami z zakresu (0, 30) podniesionymi do potęgi"
   ]
  },
  {
   "cell_type": "code",
   "execution_count": null,
   "metadata": {},
   "outputs": [],
   "source": []
  },
  {
   "cell_type": "markdown",
   "metadata": {},
   "source": [
    "### Napisz funkcję, która przyjmuje 3 wartości i zwraca największą z nich"
   ]
  },
  {
   "cell_type": "code",
   "execution_count": null,
   "metadata": {},
   "outputs": [],
   "source": []
  },
  {
   "cell_type": "code",
   "execution_count": null,
   "metadata": {},
   "outputs": [],
   "source": []
  },
  {
   "cell_type": "markdown",
   "metadata": {},
   "source": [
    "### Napisz funkcję, która przyjmuje 2 wartości i zwraca ich iloczyn"
   ]
  },
  {
   "cell_type": "code",
   "execution_count": null,
   "metadata": {},
   "outputs": [],
   "source": []
  },
  {
   "cell_type": "markdown",
   "metadata": {},
   "source": [
    "### Napisz funkcję, która przyjmuje 1 wartość i sprawdza czy ta wartość jest z zakresu (5, 15) (zwraca True lub False)"
   ]
  },
  {
   "cell_type": "code",
   "execution_count": null,
   "metadata": {},
   "outputs": [],
   "source": []
  },
  {
   "cell_type": "markdown",
   "metadata": {},
   "source": [
    "### Do funkcji z poprzednich zadań dopisz informację o typach przyjmowanych zmiennych oraz o typie zwracanej zmiennej"
   ]
  },
  {
   "cell_type": "code",
   "execution_count": null,
   "metadata": {},
   "outputs": [],
   "source": []
  },
  {
   "cell_type": "markdown",
   "metadata": {},
   "source": [
    "## Lambda"
   ]
  },
  {
   "cell_type": "code",
   "execution_count": null,
   "metadata": {},
   "outputs": [],
   "source": [
    "def potega(number):\n",
    "    return number**2"
   ]
  },
  {
   "cell_type": "code",
   "execution_count": null,
   "metadata": {},
   "outputs": [],
   "source": [
    "potega(5)"
   ]
  },
  {
   "cell_type": "code",
   "execution_count": null,
   "metadata": {
    "ExecuteTime": {
     "end_time": "2017-10-30T21:08:01.340108Z",
     "start_time": "2017-10-30T21:08:01.335077Z"
    }
   },
   "outputs": [],
   "source": [
    "potega = lambda x: x ** 2"
   ]
  },
  {
   "cell_type": "code",
   "execution_count": null,
   "metadata": {
    "ExecuteTime": {
     "end_time": "2017-10-30T21:08:04.967376Z",
     "start_time": "2017-10-30T21:08:04.960213Z"
    }
   },
   "outputs": [],
   "source": [
    "potega(5)"
   ]
  },
  {
   "cell_type": "code",
   "execution_count": null,
   "metadata": {
    "ExecuteTime": {
     "end_time": "2017-10-30T21:08:07.099755Z",
     "start_time": "2017-10-30T21:08:07.097611Z"
    }
   },
   "outputs": [],
   "source": [
    "f = lambda x, y: x + y"
   ]
  },
  {
   "cell_type": "code",
   "execution_count": null,
   "metadata": {
    "ExecuteTime": {
     "end_time": "2017-10-30T21:08:11.042054Z",
     "start_time": "2017-10-30T21:08:11.028369Z"
    }
   },
   "outputs": [],
   "source": [
    "f(1, 2)"
   ]
  },
  {
   "cell_type": "code",
   "execution_count": null,
   "metadata": {},
   "outputs": [],
   "source": [
    "my_dictionary = {\n",
    "    1: \"jeden\",\n",
    "    2: \"dwa\"\n",
    "}"
   ]
  },
  {
   "cell_type": "code",
   "execution_count": null,
   "metadata": {},
   "outputs": [],
   "source": [
    "f = lambda x: my_dictionary[x] if x in my_dictionary else \"Nie znalazłem\""
   ]
  },
  {
   "cell_type": "code",
   "execution_count": null,
   "metadata": {},
   "outputs": [],
   "source": [
    "f(5)"
   ]
  },
  {
   "cell_type": "markdown",
   "metadata": {
    "ExecuteTime": {
     "end_time": "2017-10-30T21:10:48.247863Z",
     "start_time": "2017-10-30T21:10:48.242522Z"
    }
   },
   "source": [
    "## Map\n",
    "---\n",
    "```\n",
    "Pozwala na wykonanie wielu operacji na liście bez potrzeby użycia pętli \"for\"\n",
    "map(func, *iterables) --> map object\n",
    "```"
   ]
  },
  {
   "cell_type": "code",
   "execution_count": null,
   "metadata": {},
   "outputs": [],
   "source": [
    "def powers(x: int) -> (int, int):\n",
    "    return x ** 2, x ** 3"
   ]
  },
  {
   "cell_type": "code",
   "execution_count": null,
   "metadata": {},
   "outputs": [],
   "source": [
    "numbers = [1, 2, 3, 4]"
   ]
  },
  {
   "cell_type": "code",
   "execution_count": null,
   "metadata": {},
   "outputs": [],
   "source": [
    "powered_list = []\n",
    "for item in numbers:\n",
    "    powered_list.append(powers(item))\n",
    "powered_list"
   ]
  },
  {
   "cell_type": "code",
   "execution_count": null,
   "metadata": {},
   "outputs": [],
   "source": [
    "list(map(powers, numbers))"
   ]
  },
  {
   "cell_type": "markdown",
   "metadata": {},
   "source": [
    "#### Map. Wydajność."
   ]
  },
  {
   "cell_type": "code",
   "execution_count": null,
   "metadata": {
    "ExecuteTime": {
     "end_time": "2017-10-30T21:09:41.469492Z",
     "start_time": "2017-10-30T21:09:41.46349Z"
    }
   },
   "outputs": [],
   "source": [
    "foo = [2, 18, 9, 22, 17, 24, 8, 12, 27]"
   ]
  },
  {
   "cell_type": "code",
   "execution_count": null,
   "metadata": {},
   "outputs": [],
   "source": [
    "foo = foo * 10000"
   ]
  },
  {
   "cell_type": "code",
   "execution_count": null,
   "metadata": {},
   "outputs": [],
   "source": [
    "len(foo)"
   ]
  },
  {
   "cell_type": "code",
   "execution_count": null,
   "metadata": {},
   "outputs": [],
   "source": [
    "def poteguj(podstawa: int) -> (int):\n",
    "    return podstawa**2"
   ]
  },
  {
   "cell_type": "code",
   "execution_count": null,
   "metadata": {},
   "outputs": [],
   "source": [
    "def poteguj_liste(l):\n",
    "    potegi = []\n",
    "    for x in l:\n",
    "        potegi.append(poteguj(x))\n",
    "    return potegi    "
   ]
  },
  {
   "cell_type": "code",
   "execution_count": null,
   "metadata": {},
   "outputs": [],
   "source": [
    "%timeit list(map(lambda x: x**2, foo))"
   ]
  },
  {
   "cell_type": "code",
   "execution_count": null,
   "metadata": {
    "ExecuteTime": {
     "end_time": "2017-10-30T21:10:07.705189Z",
     "start_time": "2017-10-30T21:10:07.700259Z"
    }
   },
   "outputs": [],
   "source": [
    "%timeit list(map(poteguj, foo))"
   ]
  },
  {
   "cell_type": "code",
   "execution_count": null,
   "metadata": {},
   "outputs": [],
   "source": [
    "%timeit [poteguj(x) for x in foo]"
   ]
  },
  {
   "cell_type": "code",
   "execution_count": null,
   "metadata": {},
   "outputs": [],
   "source": [
    "%timeit poteguj_liste(foo)"
   ]
  },
  {
   "cell_type": "markdown",
   "metadata": {},
   "source": [
    "## Zbiory atrybutów - \\*args \\**kwargs\n",
    "---\n",
    "Nazwy **args** i **kwargs** są tylko konwencją, można użyć innych nazw, istotna jest tylko **\\*** (gwiazdka)  \n",
    "Równie dobrze możemy napisać \\*var \\**vars"
   ]
  },
  {
   "cell_type": "code",
   "execution_count": null,
   "metadata": {
    "ExecuteTime": {
     "end_time": "2017-11-03T22:43:54.086764Z",
     "start_time": "2017-11-03T22:43:54.074686Z"
    }
   },
   "outputs": [],
   "source": [
    "# *agrs: dowolna liczba argumentów\n",
    "def test_var_args(f_arg, *args):\n",
    "    print(\"pierwszy normalny:\", f_arg)\n",
    "    for arg in args:\n",
    "        print(\"kolejne z listy *args :\", arg)\n"
   ]
  },
  {
   "cell_type": "code",
   "execution_count": null,
   "metadata": {},
   "outputs": [],
   "source": [
    "test_var_args('pierwszy','drugi','trzeci','czwarty')"
   ]
  },
  {
   "cell_type": "code",
   "execution_count": null,
   "metadata": {
    "ExecuteTime": {
     "end_time": "2017-11-03T22:47:12.62776Z",
     "start_time": "2017-11-03T22:47:12.618728Z"
    }
   },
   "outputs": [],
   "source": [
    "# **kwargs: argumenty ze słownika\n",
    "def test_kwargs(f_arg, **kwargs):\n",
    "    print(\"pierwszy normalny:\", f_arg)\n",
    "    for key, value in kwargs.items():\n",
    "        print(\"pozostałe key->value z **kwargs \", key, \":\", value)"
   ]
  },
  {
   "cell_type": "code",
   "execution_count": null,
   "metadata": {},
   "outputs": [],
   "source": [
    "test_kwargs(\"Pierwszy wymagany\", name=\"Ratusz\", city=\"Białystok\")"
   ]
  },
  {
   "cell_type": "code",
   "execution_count": null,
   "metadata": {
    "ExecuteTime": {
     "end_time": "2017-11-03T22:48:12.324657Z",
     "start_time": "2017-11-03T22:48:12.314649Z"
    }
   },
   "outputs": [],
   "source": [
    "def test_args_kwargs(f_arg, *args, **kwargs):\n",
    "    print(\"Pierwszy normalny:\", f_arg)\n",
    "    \n",
    "    for arg in args:\n",
    "        print(\"Kolejne z listy *args :\", arg)\n",
    "        \n",
    "    for key, value in kwargs.items():\n",
    "        print(\"Klucze i wartości ze słownika **kwargs \", key, \":\", value)"
   ]
  },
  {
   "cell_type": "code",
   "execution_count": null,
   "metadata": {},
   "outputs": [],
   "source": [
    "test_args_kwargs(\"required arg\", \"arg1\", name=\"Ratusz\", city=\"Białystok\")"
   ]
  },
  {
   "cell_type": "code",
   "execution_count": null,
   "metadata": {},
   "outputs": [],
   "source": [
    "first_arg = 5\n",
    "my_list = ['milk', 'bread', 'apple']\n",
    "my_dict = {'milk': 2, 'bread': 3, 'apple': 1}"
   ]
  },
  {
   "cell_type": "code",
   "execution_count": null,
   "metadata": {},
   "outputs": [],
   "source": [
    "test_args_kwargs(first_arg, *my_list, **my_dict)"
   ]
  },
  {
   "cell_type": "markdown",
   "metadata": {},
   "source": [
    "W taki sposób działa na przykład funkcja **print()**"
   ]
  },
  {
   "cell_type": "code",
   "execution_count": null,
   "metadata": {},
   "outputs": [],
   "source": [
    "print(\"a\", \"b\", \"c\", \"d\")"
   ]
  },
  {
   "cell_type": "markdown",
   "metadata": {},
   "source": [
    "Uproszczona implementacja działająca podobnie do **print()**"
   ]
  },
  {
   "cell_type": "code",
   "execution_count": null,
   "metadata": {},
   "outputs": [],
   "source": [
    "def moj_print(*args):\n",
    "    text =\" \".join(args)\n",
    "    print(text)\n",
    "    \n",
    "moj_print(\"a\", \"b\", \"c\", \"d\")"
   ]
  },
  {
   "cell_type": "markdown",
   "metadata": {},
   "source": [
    "## Ćwiczenia"
   ]
  },
  {
   "cell_type": "markdown",
   "metadata": {},
   "source": [
    "### Za pomocą *map* oraz *lambda* zwróć dwukrotność wszystkich wartości w liście *k*"
   ]
  },
  {
   "cell_type": "code",
   "execution_count": null,
   "metadata": {},
   "outputs": [],
   "source": [
    "k = [5, 1, 2, 5, 7, 4, 3, 1, 7, 0, 2, 5, 4, 3, 3]"
   ]
  },
  {
   "cell_type": "code",
   "execution_count": null,
   "metadata": {},
   "outputs": [],
   "source": []
  },
  {
   "cell_type": "markdown",
   "metadata": {},
   "source": [
    "### Za pomocą *map* oraz *lambda* zwróć listę z wartościami ze słownika *d* - przypisz wartości ze słownika do wartości z listy na podstawie kluczy. \n",
    "W wyniku wykonania ćwiczenia powinna powstać lista: `['mysz', 'królik', 'pies', 'królik', 'kot', 'kot']`"
   ]
  },
  {
   "cell_type": "code",
   "execution_count": null,
   "metadata": {
    "ExecuteTime": {
     "end_time": "2017-11-04T14:33:23.268947Z",
     "start_time": "2017-11-04T14:33:23.265945Z"
    }
   },
   "outputs": [],
   "source": [
    "d = {0: \"kot\", 1: \"pies\", 2: \"królik\", 3: \"mysz\"}\n",
    "k = [3, 2, 1, 2, 0, 0]"
   ]
  },
  {
   "cell_type": "code",
   "execution_count": null,
   "metadata": {},
   "outputs": [],
   "source": []
  },
  {
   "cell_type": "markdown",
   "metadata": {},
   "source": [
    "### Napisz funkcję, która przyjmuje dowolną ilość atrybutów i zwraca listę z atrybutami większymi od 5"
   ]
  },
  {
   "cell_type": "code",
   "execution_count": null,
   "metadata": {},
   "outputs": [],
   "source": []
  },
  {
   "cell_type": "code",
   "execution_count": null,
   "metadata": {},
   "outputs": [],
   "source": []
  }
 ],
 "metadata": {
  "kernelspec": {
   "display_name": "Python 3",
   "language": "python",
   "name": "python3"
  },
  "language_info": {
   "codemirror_mode": {
    "name": "ipython",
    "version": 3
   },
   "file_extension": ".py",
   "mimetype": "text/x-python",
   "name": "python",
   "nbconvert_exporter": "python",
   "pygments_lexer": "ipython3",
   "version": "3.8.8"
  },
  "notify_time": "10",
  "toc": {
   "base_numbering": 1,
   "nav_menu": {},
   "number_sections": false,
   "sideBar": true,
   "skip_h1_title": false,
   "title_cell": "Table of Contents",
   "title_sidebar": "Contents",
   "toc_cell": false,
   "toc_position": {},
   "toc_section_display": "block",
   "toc_window_display": false
  }
 },
 "nbformat": 4,
 "nbformat_minor": 2
}
